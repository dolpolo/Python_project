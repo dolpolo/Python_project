{
 "cells": [
  {
   "cell_type": "markdown",
   "id": "1e04e5af",
   "metadata": {},
   "source": [
    "## US Election 2020 Tweets Analysis\n",
    "\n",
    "The [\"US Election 2020 Tweets\" dataset](https://www.kaggle.com/datasets/manchunhui/us-election-2020-tweets/data) provides an extensive collection of tweets from around the world that include hashtags related to the 2020 U.S. presidential candidates, Biden and Trump.\n",
    "\n",
    "### Objectives\n",
    "For this analysis, we will focus exclusively on single tweets from each unique Twitter user based in the United States, and in English, to perform text analysis with three main goals:\n",
    "\n",
    "- **Tweets distribution Analysis**: Clear the dataset and prepare it for a general analysis. Describe how tweets are distributed between the two U.S. candidates in all US and across federal states;\n",
    "- **Global Sentiment Analysis**: Clear the dataset and prepare it for a Sentiment Text Analysis. Assess the sentiment of the global population of Twitter users towards Biden and Trump evaluating which sentiment preveals on each of them;\n",
    "- **Federal States Sentiment Analysis**: Assess the sentiment of each Federal state Twitter users towards Biden and Trump and use it as a proxy for the election outcome (**Subsection A**). Evaluate the power of the proxy using the outcome of 2020 elections (**Subsection B**). \n"
   ]
  },
  {
   "cell_type": "markdown",
   "id": "a7f9ff02",
   "metadata": {},
   "source": [
    "---------------"
   ]
  },
  {
   "cell_type": "markdown",
   "id": "471cccb0",
   "metadata": {},
   "source": [
    "# Federal States Sentiment Analysis"
   ]
  },
  {
   "cell_type": "markdown",
   "id": "14ebde07",
   "metadata": {},
   "source": [
    "This code is organized into two main sections:\n",
    "\n",
    "- **Section A: Creation of a Sentiment Proxy**\n",
    "In this section, tweets from each federal state are categorized as \"positive,\" \"neutral,\" or \"negative\" toward each candidate. By summing the positive tweets for a candidate and the negative ones for the opponent, we derive an overall preference for each candidate within each state.\n",
    "\n",
    "- **Section B: Evaluating Proxy Effectiveness in the 2020 U.S. Elections**\n",
    "This section provides a descriptive comparison between the predictive power of the tweet-based proxy and the actual results of the 2020 U.S. election. A final graph illustrates the proxy’s accuracy in predicting election outcomes.\n",
    "\n",
    "The research findings and potential directions for future work are presented at the conclusion."
   ]
  },
  {
   "cell_type": "code",
   "execution_count": 2,
   "id": "9023ec3e-42f2-4a5b-b307-d29d75300e6c",
   "metadata": {},
   "outputs": [],
   "source": [
    "# Import Libraries \n",
    "import pandas as pd \n",
    "import numpy as np \n",
    "import matplotlib.pyplot as plt \n",
    "import plotly.express as px \n",
    "import plotly.io as pio\n",
    "from pathlib import Path\n",
    "import os\n",
    "# Libraries for Sentiment Analysis \n",
    "import re \n",
    "import nltk \n",
    "from nltk.corpus import stopwords \n",
    "from nltk.corpus import wordnet \n",
    "from nltk.stem import WordNetLemmatizer \n",
    "from textblob import TextBlob \n",
    "from wordcloud import WordCloud \n",
    "from nltk.tokenize import sent_tokenize, word_tokenize\n",
    "from nltk.corpus import stopwords, words\n",
    "from nltk.probability import FreqDist"
   ]
  },
  {
   "cell_type": "markdown",
   "id": "40aa9b1c-56c8-44c0-b22c-519639b8688d",
   "metadata": {},
   "source": [
    "### Load Data"
   ]
  },
  {
   "cell_type": "code",
   "execution_count": 3,
   "id": "b52bb252-d895-4882-b53d-8aca0f1214fa",
   "metadata": {},
   "outputs": [
    {
     "name": "stdout",
     "output_type": "stream",
     "text": [
      "Current Working Directory: C:\\Users\\Davide\\Desktop\\Alma Mater\\SECOND YEAR\\PYTHON\\Python_project\n"
     ]
    }
   ],
   "source": [
    "# Define the base path\n",
    "base_path = Path(\"C:/Users/Davide/Desktop/Alma Mater/SECOND YEAR/PYTHON/Python_project\")\n",
    "# Change the working directory\n",
    "os.chdir(base_path)\n",
    "\n",
    "# Define the full path to the CSV file for Trump and Biden\n",
    "merged_data = base_path / \"data/data.csv\" #this dataset is already restricted to the US\n",
    "\n",
    "# Print the current working directory\n",
    "print(\"Current Working Directory:\", Path.cwd())"
   ]
  },
  {
   "cell_type": "code",
   "execution_count": 55,
   "id": "3b57ec14-daf4-4312-b47d-dd0834eefe1c",
   "metadata": {},
   "outputs": [
    {
     "name": "stdout",
     "output_type": "stream",
     "text": [
      "First 5 rows of the DataFrame:\n",
      "   index           created_at      tweet_id  \\\n",
      "0      0  2020-10-15 00:00:01  1.316529e+18   \n",
      "1      2  2020-10-15 00:00:02  1.316529e+18   \n",
      "2      4  2020-10-15 00:00:08  1.316529e+18   \n",
      "3      5  2020-10-15 00:00:17  1.316529e+18   \n",
      "4      7  2020-10-15 00:00:18  1.316529e+18   \n",
      "\n",
      "                                               tweet  likes  retweet_count  \\\n",
      "0  #Elecciones2020 | En #Florida: #JoeBiden dice ...    0.0            0.0   \n",
      "1  #Trump: As a student I used to hear for years,...    2.0            1.0   \n",
      "2  You get a tie! And you get a tie! #Trump ‘s ra...    4.0            3.0   \n",
      "3  @CLady62 Her 15 minutes were over long time ag...    2.0            0.0   \n",
      "4  @DeeviousDenise @realDonaldTrump @nypost There...    0.0            0.0   \n",
      "\n",
      "                source       user_id  \\\n",
      "0            TweetDeck  3.606665e+08   \n",
      "1      Twitter Web App  8.436472e+06   \n",
      "2   Twitter for iPhone  4.741380e+07   \n",
      "3  Twitter for Android  1.138416e+09   \n",
      "4   Twitter for iPhone  9.007611e+17   \n",
      "\n",
      "                                    user_name user_screen_name  ...  \\\n",
      "0                          El Sol Latino News  elsollatinonews  ...   \n",
      "1                                      snarke           snarke  ...   \n",
      "2                       Rana Abtar - رنا أبتر        Ranaabtar  ...   \n",
      "3                                Farris Flagg      FarrisFlagg  ...   \n",
      "4  Stacey Gulledge 🇺🇸 Patriot ♥️ KAG 🙏 👮‍♀️♥️      sm_gulledge  ...   \n",
      "\n",
      "                  user_location        lat        long        city  country  \\\n",
      "0  Philadelphia, PA / Miami, FL  25.774270  -80.193660         NaN       US   \n",
      "1                      Portland  45.520247 -122.674195    Portland       US   \n",
      "2                 Washington DC  38.894992  -77.036558  Washington       US   \n",
      "3             Perris,California  33.782519 -117.228648         NaN       US   \n",
      "4                     Ohio, USA  40.225357  -82.688140         NaN       US   \n",
      "\n",
      "       continent                 state state_code  \\\n",
      "0  North America               Florida         FL   \n",
      "1  North America                Oregon         OR   \n",
      "2  North America  District of Columbia         DC   \n",
      "3  North America            California         CA   \n",
      "4  North America                  Ohio         OH   \n",
      "\n",
      "                    collected_at candidate  \n",
      "0            2020-10-21 00:00:00     trump  \n",
      "1  2020-10-21 00:00:00.746433060     trump  \n",
      "2  2020-10-21 00:00:01.492866121     trump  \n",
      "3  2020-10-21 00:00:01.866082651     trump  \n",
      "4  2020-10-21 00:00:02.612515712     trump  \n",
      "\n",
      "[5 rows x 23 columns]\n"
     ]
    }
   ],
   "source": [
    "try:\n",
    "    data = pd.read_csv(merged_data, encoding=\"utf-8\", engine='python', on_bad_lines='skip')\n",
    "    print(\"First 5 rows of the DataFrame:\")\n",
    "    print(data.head())\n",
    "except Exception as e:\n",
    "    print(\"Error loading the file:\", e)"
   ]
  },
  {
   "cell_type": "markdown",
   "id": "fec6650d",
   "metadata": {},
   "source": [
    "# *A* - Federal States Sentiment Analysis: The Creation of a Proxy"
   ]
  },
  {
   "cell_type": "code",
   "execution_count": 56,
   "id": "71fd8e92-1d18-492e-bdd6-e9bba3851e01",
   "metadata": {},
   "outputs": [
    {
     "name": "stdout",
     "output_type": "stream",
     "text": [
      "                                                    tweet state_code candidate\n",
      "0       #Elecciones2020 | En #Florida: #JoeBiden dice ...         FL     trump\n",
      "1       #Trump: As a student I used to hear for years,...         OR     trump\n",
      "2       You get a tie! And you get a tie! #Trump ‘s ra...         DC     trump\n",
      "3       @CLady62 Her 15 minutes were over long time ag...         CA     trump\n",
      "4       @DeeviousDenise @realDonaldTrump @nypost There...         OH     trump\n",
      "...                                                   ...        ...       ...\n",
      "394390  #election #2020Elections #trump #biden https:/...         NY     biden\n",
      "394391  @GOP @GOPLeader @senatemajldr @LindseyGrahamSC...         MA     biden\n",
      "394392  @FLOTUS I’m excited to have a FLOTUS whose vag...         DC     biden\n",
      "394393  The man needs some help...#usa #biden\\nWhen wi...         ID     biden\n",
      "394394  LIONZ DEN PRESENTS TO YOU \\n\\n“THE WHITE OBAMA...         MN     biden\n",
      "\n",
      "[394395 rows x 3 columns]\n"
     ]
    }
   ],
   "source": [
    "#retain only the columns \"tweet\", \"state_code\" and \"candidate\"\n",
    "data = data [['tweet', 'state_code', 'candidate']]\n",
    "print(data)"
   ]
  },
  {
   "cell_type": "markdown",
   "id": "f65d9bf5",
   "metadata": {},
   "source": [
    "### Data Cleaning"
   ]
  },
  {
   "cell_type": "code",
   "execution_count": 57,
   "id": "c176ff32-8ea3-4781-82a2-7319dd837c21",
   "metadata": {},
   "outputs": [
    {
     "name": "stdout",
     "output_type": "stream",
     "text": [
      "NaN for each variable:\n",
      " tweet             0\n",
      "state_code    61931\n",
      "candidate         0\n",
      "dtype: int64\n",
      "\n",
      "Total NaN  61931\n"
     ]
    }
   ],
   "source": [
    "#verify whether there are missing values and drop rows that have missing values in either one of the three columns\n",
    "print('NaN for each variable:\\n', data.isna().sum(axis=0))  #sum by line the missing values foe each variable\n",
    "print('\\nTotal NaN ', data.isna().sum(axis=0).sum()) #total number of missing values"
   ]
  },
  {
   "cell_type": "code",
   "execution_count": 58,
   "id": "2e1693ef-e497-4f41-a002-2bbdd2f6bc04",
   "metadata": {},
   "outputs": [
    {
     "data": {
      "text/plain": [
       "(332464, 3)"
      ]
     },
     "execution_count": 58,
     "metadata": {},
     "output_type": "execute_result"
    }
   ],
   "source": [
    "#the only missing values are in state code. We drop all rows with a missing value for the State code\n",
    "data = data.dropna(subset=['state_code'], how='any') #if there is a missing value in state_code, then the line is dropped\n",
    "data.shape  #create a new dataframe. the resulting dataframe had 332464 rows and 3 columns"
   ]
  },
  {
   "cell_type": "markdown",
   "id": "b5557629-3188-441e-a81b-415d7981dff2",
   "metadata": {},
   "source": [
    "### Sentiment Analysis By U.S. Federal States"
   ]
  },
  {
   "cell_type": "markdown",
   "id": "e7655663-55c8-41cc-92dd-ee92d0b1a317",
   "metadata": {},
   "source": [
    " **Note**: \n",
    " \n",
    " states differ widely in terms of the number of tweets. This makes our proxy for electoral outcomes less reliable in states with a low number of tweets. However, since within each state the number of tweets for each candidate is similar, our sentiment analysis by state is not biased by a disproportionately higher amount of tweets for one candidate\n",
    "\n",
    "Dropping US territories that are not relevant for presidency electoral outcomes"
   ]
  },
  {
   "cell_type": "code",
   "execution_count": null,
   "id": "51a42443-c674-441c-9c00-78f70ed66d4e",
   "metadata": {},
   "outputs": [
    {
     "name": "stdout",
     "output_type": "stream",
     "text": [
      "['FL' 'OR' 'DC' 'CA' 'OH' 'PA' 'IL' 'MI' 'NJ' 'MA' 'NH' 'TX' 'SD' 'GA'\n",
      " 'MO' 'NY' 'CO' 'SC' 'VA' 'AL' 'AZ' 'NC' 'TN' 'NE' 'LA' 'NV' 'MN' 'IN'\n",
      " 'WA' 'HI' 'WV' 'VT' 'ID' 'PR' 'IA' 'KY' 'ND' 'AR' 'WI' 'UT' 'MT' 'KS'\n",
      " 'WY' 'ME' 'CT' 'MD' 'NM' 'OK' 'AK' 'DE' 'RI' 'MS' 'GU' 'MP']\n",
      "All unwanted codes have been successfully removed from the data.\n"
     ]
    }
   ],
   "source": [
    "#check that we have all US states. \n",
    "unique_US_states_count = data['state_code'].nunique()\n",
    "unique_US_states = data['state_code'].unique()\n",
    "print(unique_US_states)\n",
    "# There are 54 states. they should be 50. Hence there are 3 codes that do not indicate States, but rather US territories. these are:\n",
    "#PR - Puerto Rico (U.S. territory)\n",
    "#GU - Guam (U.S. territory)\n",
    "#MP - Northern Mariana Islands (U.S. territory)\n",
    "\n",
    "# However, The District of Columbia even if it's not a proper federal state, has the 5th highes network of tweeters as our desciptive analysis reveald. \n",
    "# for this reason can be a good idea leave DC in the analysis\n",
    "#DC - District of Columbia (federal district) \n",
    "\n",
    "# drop the 3 US territories in order to perform the analysis by US state\n",
    "codes_to_drop = ['PR', 'GU', 'MP'] #we retain DC as it is the 5th territory with the highest number of tweets and is relevant for the presidential election's outcome\n",
    "data = data[~data['state_code'].isin(codes_to_drop)] #exclude rows where state code is any of the four listed in codes to drop\n",
    "\n",
    "# Check if any of the unwanted codes are still in the 'state_code' column\n",
    "unwanted_codes_present = data['state_code'].isin(codes_to_drop).any()\n",
    "if unwanted_codes_present:\n",
    "    print(\"There are still unwanted codes in the data.\")\n",
    "else:\n",
    "    print(\"All unwanted codes have been successfully removed from the data.\")\n",
    "\n",
    "\n"
   ]
  },
  {
   "cell_type": "markdown",
   "id": "deba8939",
   "metadata": {},
   "source": [
    "### Functions"
   ]
  },
  {
   "cell_type": "markdown",
   "id": "dbf84f03-e395-43d6-ab77-91e4cad2e64e",
   "metadata": {},
   "source": [
    "functions for cleaning the dataset"
   ]
  },
  {
   "cell_type": "code",
   "execution_count": null,
   "id": "f7a30816-42ba-4e12-8a9a-1d18b4199671",
   "metadata": {},
   "outputs": [],
   "source": [
    "import unicodedata #needed to turn bold and italics into lowercase text\n",
    "def clean(text): \n",
    "\t# Remove URLs \n",
    "\ttext = re.sub(r'https?://\\S+|www\\.\\S+', '', str(text)) \n",
    "\n",
    "\t# Convert text to lowercase (after turning bold and italics into normal text)\n",
    "\ttext = unicodedata.normalize('NFKD', text).encode('ascii', 'ignore').decode('utf-8').lower()\n",
    "\n",
    "\t# Replace anything other than alphabets a-z with a space \n",
    "\ttext = re.sub('[^a-z]', ' ', text) \n",
    "\n",
    "\t# Split the text into single words \n",
    "\ttext = text.split() \n",
    "\n",
    "\t# Initialize WordNetLemmatizer \n",
    "\tlm = WordNetLemmatizer() \n",
    "\n",
    "\t# Lemmatize words and remove stopwords \n",
    "\ttext = [lm.lemmatize(word) for word in text if word not in set( \n",
    "\t\tstopwords.words('english'))] \n",
    "\n",
    "\t# Join the words back into a sentence \n",
    "\ttext = ' '.join(word for word in text) \n",
    "\n",
    "\treturn text "
   ]
  },
  {
   "cell_type": "markdown",
   "id": "93065af9-9805-4018-a53a-dd4c1da3c7fd",
   "metadata": {},
   "source": [
    "functions for performing sentiment analysis\n",
    "\n",
    "The TextBlob library provides an interface for processing textual data. TextBlob(text) creates a TextBlob object from the input text.\n",
    "1) \".sentiment.polarity\" computes the polarity score, which is a float ranging from -1 to 1. A polarity score close to 1 indicates positive sentiment; a polarity score close to -1 indicates negative sentiment; a score of 0 indicates neutral sentiment. TextBlob calculates this score by summing up the individual sentiment scores of words or phrases, adjusted by their context. It then averages these values to get a single polarity score for the whole text\n",
    "2) \".sentiment.subjectivity\" calculates a subjectivity score, which is a float ranging from 0 to 1. A subjectivity score close to 1 means the text is subjective or opinion-based; a score close to 0 indicates the text is objective or fact-based. TextBlob’s subjectivity score for the text is calculated by identifying words that express opinions or feelings. Each subjective word increases the subjectivity score, while neutral or factual words decrease it. TextBlob averages these results to determine an overall subjectivity score.\n",
    "3) \"getAnalysis\" takes as input the polarity score and labels it as positive, neutral or negative.\n",
    "\n"
   ]
  },
  {
   "cell_type": "code",
   "execution_count": null,
   "id": "9fbe9587-a1a4-4ef4-ad9e-3ec1759f039a",
   "metadata": {},
   "outputs": [],
   "source": [
    "def getpolarity(text): \n",
    "    return TextBlob(text).sentiment.polarity \n",
    "\n",
    "def getsubjectivity(text): \n",
    "    return TextBlob(text).sentiment.subjectivity \n",
    "\n",
    "def getAnalysis(score): \n",
    "    if score < 0: \n",
    "        return 'negative'\n",
    "    elif score == 0: \n",
    "        return 'neutral'\n",
    "    else: \n",
    "        return 'positive'"
   ]
  },
  {
   "cell_type": "markdown",
   "id": "a01dfd8f-7124-4b9c-baf3-ea8123410f55",
   "metadata": {},
   "source": [
    "### Grouping by States\n",
    "\n",
    "group tweets for both candidates by US state"
   ]
  },
  {
   "cell_type": "code",
   "execution_count": 75,
   "id": "c9fa38b4-4116-4944-a53d-185dfeb761e5",
   "metadata": {},
   "outputs": [
    {
     "name": "stdout",
     "output_type": "stream",
     "text": [
      "California DataFrame:\n",
      "                                                    tweet candidate\n",
      "3       @CLady62 Her 15 minutes were over long time ag...     trump\n",
      "7       #Trump #PresidentTrump #Trump2020LandslideVict...     trump\n",
      "15      #BlacksForTrump \\n#BlackVoicesForTrump \\n#Bide...     trump\n",
      "19      #TheWeek: \"#Trump in Penn: \"I saved suburbia. ...     trump\n",
      "21      #Trump is tearing up #Biden at the #TrumpRally...     trump\n",
      "...                                                   ...       ...\n",
      "394346  On what date can we officially start blaming a...     biden\n",
      "394370  Oigan como que ganó #Biden la #precidencia y d...     biden\n",
      "394375  LIONZ DEN PRESENTS TO YOU \\n\\n“THE WHITE OBAMA...     biden\n",
      "394381  #Election2020 President #Trump addresses Joe #...     biden\n",
      "394386  #Biden 🗽🇺🇸👍🏽 | Images 📷 @ Santa Maria, CA.  | ...     biden\n",
      "\n",
      "[56964 rows x 2 columns]\n",
      "Wyoming DataFrame:\n",
      "                                                    tweet candidate\n",
      "486     Confessions of the secret suburban Trump moms ...     trump\n",
      "530                                     Hearts are #Trump     trump\n",
      "1087    #AmongUs #Trump #Election2020 https://t.co/txf...     trump\n",
      "1220    @LisaHagan7 And Mercury is retrograde to boot!...     trump\n",
      "1366    @RepMattGaetz No Matt...\\nIt’s engaged in not ...     trump\n",
      "...                                                   ...       ...\n",
      "391609  #Biden may not have been everyone's choice. Bu...     biden\n",
      "393148  @realDonaldTrump 2016 #Trump won only by Elect...     biden\n",
      "393153  @realDonaldTrump 2016 #Trump won only by Elect...     biden\n",
      "393162  @realDonaldTrump Stop your lies. Stop trying t...     biden\n",
      "393687  @BretBaier #Biden is going to lose #Arizona @a...     biden\n",
      "\n",
      "[507 rows x 2 columns]\n"
     ]
    }
   ],
   "source": [
    "# Create a dictionary to hold dataframes for each state\n",
    "state_dataframes = {}\n",
    "\n",
    "# Loop through each state code and create a separate DataFrame for each statecode\n",
    "for state in unique_US_states:\n",
    "    state_dataframes[state] = data[data['state_code'] == state][['tweet', 'candidate']]\n",
    "\n",
    "# Example: Accessing the DataFrame for California (CA)\n",
    "california_df = state_dataframes['CA']  \n",
    "print(\"California DataFrame:\")\n",
    "print(california_df)\n",
    "# Example: Accessing the DataFrame for Wyoming (WY)\n",
    "Wyoming_df = state_dataframes['WY']  \n",
    "print(\"Wyoming DataFrame:\")\n",
    "print(Wyoming_df)"
   ]
  },
  {
   "cell_type": "markdown",
   "id": "cff19057",
   "metadata": {},
   "source": [
    "### Results of the Sentiment Analysis"
   ]
  },
  {
   "cell_type": "markdown",
   "id": "26526c3a-1262-481f-a584-c7874aa6a335",
   "metadata": {},
   "source": [
    "this step creates a loop which, for each state, considers separately the subset of tweets on Trump and the subset of tweets on Biden. After cleaning the tweets and applying the functions for sentiment analysis, the loop computes the total number of positive and negative tweets for each subset. The results for each state are appended in the list 'results', which is then converted into a dataframe for further analyses"
   ]
  },
  {
   "cell_type": "code",
   "execution_count": 78,
   "id": "cc8257f0",
   "metadata": {},
   "outputs": [],
   "source": [
    "# Initialize a list where we store the results of the sentiment analysis. this will be converted into a dataframe for futher analyses\n",
    "results = []\n",
    "\n",
    "# Iterate over each state's DataFrame in the dictionary\n",
    "for state, df in state_dataframes.items(): #the key is a state code, and the value is the dataframe for that state. Each iteration processes a single state's dataframe\n",
    "    # First consider only tweets referring to Trump\n",
    "    trump_tweets = df[df['candidate'] == 'trump'].copy() # a subset of df is created, containing only rows where candidate == trump\n",
    "    trump_tweets['cleaned_tweet'] = trump_tweets['tweet'].apply(clean) #The clean function is applied to each tweet in trump_tweets, storing the cleaned version in a new column cleaned_tweet\n",
    "    trump_tweets['polarity'] = trump_tweets['cleaned_tweet'].apply(getpolarity)\n",
    "    trump_tweets['subjectivity'] = trump_tweets['cleaned_tweet'].apply(getsubjectivity)\n",
    "    trump_tweets['sentiment'] = trump_tweets['polarity'].apply(getAnalysis)\n",
    "\n",
    "    # Count positive and negative sentiments for Trump\n",
    "    trump_positive_count = (trump_tweets['sentiment'] == 'positive').sum()\n",
    "    trump_negative_count = (trump_tweets['sentiment'] == 'negative').sum()\n",
    "\n",
    "    # Then consider only tweets referring to Biden\n",
    "    biden_tweets = df[df['candidate'] == 'biden'].copy() #a subset of df is created, containing only rows where candidate == biden\n",
    "    biden_tweets['cleaned_tweet'] = biden_tweets['tweet'].apply(clean)\n",
    "    biden_tweets['polarity'] = biden_tweets['cleaned_tweet'].apply(getpolarity)\n",
    "    trump_tweets['subjectivity'] = trump_tweets['cleaned_tweet'].apply(getsubjectivity)\n",
    "    biden_tweets['sentiment'] = biden_tweets['polarity'].apply(getAnalysis)\n",
    "\n",
    "    # Count positive and negative sentiments for Biden\n",
    "    biden_positive_count = (biden_tweets['sentiment'] == 'positive').sum()\n",
    "    biden_negative_count = (biden_tweets['sentiment'] == 'negative').sum()\n",
    "\n",
    "    # Store results in a list\n",
    "    results.append({\n",
    "        'State': state,\n",
    "        'Trump Positive': trump_positive_count,\n",
    "        'Trump Negative': trump_negative_count,\n",
    "        'Biden Positive': biden_positive_count,\n",
    "        'Biden Negative': biden_negative_count\n",
    "    })\n",
    "\n",
    "# Convert results into a DataFrame\n",
    "results_df = pd.DataFrame(results) "
   ]
  },
  {
   "cell_type": "code",
   "execution_count": 114,
   "id": "576b76ec",
   "metadata": {},
   "outputs": [
    {
     "name": "stdout",
     "output_type": "stream",
     "text": [
      "   State  Trump Positive  Trump Negative  Biden Positive  Biden Negative  \\\n",
      "47    OK             299             204             294             136   \n",
      "48    AK             136              56             149             102   \n",
      "49    DE              59              39             131              52   \n",
      "50    RI              83              54              83              35   \n",
      "51    MS              90              61              98              68   \n",
      "\n",
      "    Trump Preference TW  Biden Preference TW  Total Polarity TW  \\\n",
      "47                  435                  498                933   \n",
      "48                  238                  205                443   \n",
      "49                  111                  170                281   \n",
      "50                  118                  137                255   \n",
      "51                  158                  159                317   \n",
      "\n",
      "    % Trump Preferences TW  % Biden Preferences TW   Winner TW  Trump wins TW  \\\n",
      "47               46.623794               53.376206  Biden wins              0   \n",
      "48               53.724605               46.275395  Trump wins              1   \n",
      "49               39.501779               60.498221  Biden wins              0   \n",
      "50               46.274510               53.725490  Biden wins              0   \n",
      "51               49.842271               50.157729  Biden wins              0   \n",
      "\n",
      "    Biden wins TW  \n",
      "47              1  \n",
      "48              0  \n",
      "49              1  \n",
      "50              1  \n",
      "51              1  \n"
     ]
    }
   ],
   "source": [
    "print(results_df.tail())"
   ]
  },
  {
   "cell_type": "markdown",
   "id": "fbb46645",
   "metadata": {},
   "source": [
    "### Proxy Computation\n",
    "\n",
    "Given the assumptions of our analysis reported below *, we compute our tweets' proxy for electoral outcomes. \n",
    "\n",
    "**RECALL ASSUMPTIONS** *\n",
    "\n",
    "- *Voting system*: absolute majority rule (50.01% wins) implies that a candidate is assumed to win in a state if he has an absolute majority in percentage preferences according to the tweets' sentiment\n",
    "- *The neutral don't vote*: everyone with a neutral sentiment towards a candidate doesn't take part in the votation\n",
    "- People are coherent with tweets statement (i.e., a negative tweet on Trump is equivalent to a positive tweet for Biden). This assumption makes it possible to eliminate all duplicate users (i.e., if a user appears twice, leaving both a tweet on biden and a tweet on trump, only one of the two is retained)\n",
    "\n",
    "Under these assumptions our proxy for the preference expressed toward a given candidate is given by **the sum of the positive tweets toward that candidate and the negative tweets toward the other candidate**"
   ]
  },
  {
   "cell_type": "code",
   "execution_count": 105,
   "id": "da561d05",
   "metadata": {},
   "outputs": [
    {
     "name": "stdout",
     "output_type": "stream",
     "text": [
      "  State  Trump Positive  Trump Negative  Biden Positive  Biden Negative  \\\n",
      "0    FL            5533            3292            4546            2187   \n",
      "1    OR            1128             872             871             417   \n",
      "2    DC            3165            1988            2521             976   \n",
      "3    CA            9976            7257            9825            4210   \n",
      "4    OH            1381             924            1408             626   \n",
      "\n",
      "   Trump Preference TW  Biden Preference TW  Total Polarity TW  \\\n",
      "0                 7720                 7838              15558   \n",
      "1                 1545                 1743               3288   \n",
      "2                 4141                 4509               8650   \n",
      "3                14186                17082              31268   \n",
      "4                 2007                 2332               4339   \n",
      "\n",
      "   % Trump Preferences TW  % Biden Preferences TW   Winner TW  Trump wins TW  \\\n",
      "0               49.620774               50.379226  Biden wins              0   \n",
      "1               46.989051               53.010949  Biden wins              0   \n",
      "2               47.872832               52.127168  Biden wins              0   \n",
      "3               45.369067               54.630933  Biden wins              0   \n",
      "4               46.254897               53.745103  Biden wins              0   \n",
      "\n",
      "   Biden wins TW  \n",
      "0              1  \n",
      "1              1  \n",
      "2              1  \n",
      "3              1  \n",
      "4              1  \n"
     ]
    }
   ],
   "source": [
    "# Now calculate preferences using the stored counts\n",
    "results_df['Trump Preference TW'] = results_df['Trump Positive'] + results_df['Biden Negative']\n",
    "results_df['Biden Preference TW'] = results_df['Biden Positive'] + results_df['Trump Negative']\n",
    "results_df['Total Polarity TW'] = results_df['Biden Positive'] + results_df['Trump Negative'] + results_df['Trump Positive'] + results_df['Biden Negative'] #the total number of positive and negative tweets for both candidates\n",
    "results_df['% Trump Preferences TW'] = (results_df['Trump Preference TW'] / results_df['Total Polarity TW']) * 100\n",
    "results_df['% Biden Preferences TW'] = (results_df['Biden Preference TW'] / results_df['Total Polarity TW']) * 100\n",
    "results_df['Winner TW'] = np.where(\n",
    "    results_df['% Trump Preferences TW'] > results_df['% Biden Preferences TW'],\n",
    "    'Trump wins',\n",
    "    'Biden wins'\n",
    ") #np.where is a function from the NumPy library that evaluates a condition and returns one of two specified values depending on whether the condition is True or False\n",
    "\n",
    "# Creating a dummy variable for Trump's victory\n",
    "results_df['Trump wins TW'] = (results_df['Winner TW'] == 'Trump wins').astype(int)\n",
    "\n",
    "# Creating a dummy variable for Biden's victory\n",
    "results_df['Biden wins TW'] = (results_df['Winner TW'] == 'Biden wins').astype(int)\n",
    "# Display the final results\n",
    "print(results_df.head())"
   ]
  },
  {
   "cell_type": "code",
   "execution_count": 93,
   "id": "08e7a130",
   "metadata": {},
   "outputs": [
    {
     "name": "stdout",
     "output_type": "stream",
     "text": [
      "   State  Trump Positive  Trump Negative  Biden Positive  Biden Negative  \\\n",
      "47    OK             299             204             294             136   \n",
      "48    AK             136              56             149             102   \n",
      "49    DE              59              39             131              52   \n",
      "50    RI              83              54              83              35   \n",
      "51    MS              90              61              98              68   \n",
      "\n",
      "    Trump Preference TW  Biden Preference TW  Total Polarity TW  \\\n",
      "47                  435                  498                933   \n",
      "48                  238                  205                443   \n",
      "49                  111                  170                281   \n",
      "50                  118                  137                255   \n",
      "51                  158                  159                317   \n",
      "\n",
      "    % Trump Preferences TW  % Biden Preferences TW   Winner TW  Trump wins TW  \\\n",
      "47               46.623794               53.376206  Biden wins              0   \n",
      "48               53.724605               46.275395  Trump wins              1   \n",
      "49               39.501779               60.498221  Biden wins              0   \n",
      "50               46.274510               53.725490  Biden wins              0   \n",
      "51               49.842271               50.157729  Biden wins              0   \n",
      "\n",
      "    Biden wins TW  \n",
      "47              1  \n",
      "48              0  \n",
      "49              1  \n",
      "50              1  \n",
      "51              1  \n"
     ]
    }
   ],
   "source": [
    "results_df = results_df.dropna(how=\"any\") #drop any row with a missing value in the results dataframe, if any\n",
    "print(results_df.tail()) #print the tail"
   ]
  },
  {
   "cell_type": "code",
   "execution_count": 107,
   "id": "fe77a5c9",
   "metadata": {},
   "outputs": [
    {
     "name": "stdout",
     "output_type": "stream",
     "text": [
      "Prediction Results:\n",
      "Winner TW\n",
      "Biden wins    44\n",
      "Trump wins     7\n",
      "Name: count, dtype: int64\n"
     ]
    }
   ],
   "source": [
    "# Counting the number of occurrences of \"Trump wins\" and \"Biden wins\" in column \"Winner TW\"\n",
    "winner_counts = results_df['Winner TW'].value_counts()\n",
    "\n",
    "# Printing our prediction results\n",
    "print(\"Prediction Results:\")\n",
    "print(winner_counts)"
   ]
  },
  {
   "cell_type": "code",
   "execution_count": 109,
   "id": "30d37e05",
   "metadata": {},
   "outputs": [],
   "source": [
    "# Save as a CSV file\n",
    "results_df.to_csv(\"tweet_preferences.csv\", index=False)\n"
   ]
  },
  {
   "cell_type": "markdown",
   "id": "fada7925",
   "metadata": {},
   "source": [
    "# *B* - Federal States Sentiment Analysis: Proxy Power in 2020 U.S. elections"
   ]
  },
  {
   "cell_type": "code",
   "execution_count": 1,
   "id": "5cd0f6d7",
   "metadata": {},
   "outputs": [],
   "source": [
    "# Import Libraries \n",
    "import pandas as pd \n",
    "import numpy as np \n",
    "import matplotlib.pyplot as plt \n",
    "import plotly.express as px \n",
    "import plotly.io as pio\n",
    "from pathlib import Path\n",
    "import os"
   ]
  },
  {
   "cell_type": "code",
   "execution_count": 3,
   "id": "a1aa659f",
   "metadata": {},
   "outputs": [
    {
     "name": "stdout",
     "output_type": "stream",
     "text": [
      "Current Working Directory: C:\\Users\\Davide\\Desktop\\Alma Mater\\SECOND YEAR\\PYTHON\\Python_project\n"
     ]
    }
   ],
   "source": [
    "# Define the base path\n",
    "base_path = Path(\"C:/Users/Davide/Desktop/Alma Mater/SECOND YEAR/PYTHON/Python_project\")\n",
    "# Change the working directory\n",
    "os.chdir(base_path)\n",
    "\n",
    "# Define the full path to the CSV file for Trump and Biden\n",
    "merged_data = base_path / \"data/voting.csv\" #this dataset is already restricted to the US\n",
    "\n",
    "# Print the current working directory\n",
    "print(\"Current Working Directory:\", Path.cwd())"
   ]
  },
  {
   "cell_type": "code",
   "execution_count": 4,
   "id": "df3625e8",
   "metadata": {},
   "outputs": [
    {
     "name": "stdout",
     "output_type": "stream",
     "text": [
      "  federal state State  trump_pct  biden_pct  trump_vote  biden_vote  \\\n",
      "0        Alaska    AK       53.1       43.0      189543      153502   \n",
      "1        Hawaii    HI       34.3       63.7      196864      366130   \n",
      "2    Washington    WA       39.0       58.4     1584651     2369612   \n",
      "3        Oregon    OR       40.7       56.9      958448     1340383   \n",
      "4    California    CA       34.3       63.5     5982194    11082293   \n",
      "\n",
      "   trump_win  biden_win  \n",
      "0          1          0  \n",
      "1          0          1  \n",
      "2          0          1  \n",
      "3          0          1  \n",
      "4          0          1  \n"
     ]
    }
   ],
   "source": [
    "political_outcomes = pd.read_csv(merged_data)\n",
    "political_outcomes = political_outcomes.rename(columns={'state_abr': 'State'}) #State will be used for merging this dataset with the twitter one\n",
    "political_outcomes = political_outcomes.rename(columns={'state': 'federal state'}) #full name of the state\n",
    "print(political_outcomes.head())"
   ]
  },
  {
   "cell_type": "markdown",
   "id": "38623dce",
   "metadata": {},
   "source": [
    "Merge the data on elections outcomes with the data reflecting sentiments toward candidatates and check if the preferences by the voters corresponds to preferences expressed by twitter users"
   ]
  },
  {
   "cell_type": "code",
   "execution_count": 6,
   "id": "be9b7606",
   "metadata": {},
   "outputs": [
    {
     "name": "stdout",
     "output_type": "stream",
     "text": [
      "  State  Trump Positive  Trump Negative  Biden Positive  Biden Negative  \\\n",
      "0    FL            5526            3313            4542            2203   \n",
      "1    OR            1128             878             869             423   \n",
      "2    DC            3166            1999            2520             981   \n",
      "3    CA            9969            7303            9820            4240   \n",
      "4    OH            1381             927            1406             631   \n",
      "\n",
      "   Trump Preference  Biden Preference  Total Polarity  % Trump Preferences  \\\n",
      "0              7729              7855           15584            49.595739   \n",
      "1              1551              1747            3298            47.028502   \n",
      "2              4147              4519            8666            47.853681   \n",
      "3             14209             17123           31332            45.349802   \n",
      "4              2012              2333            4345            46.306099   \n",
      "\n",
      "   % Biden Preferences  ... Trump wins  Biden wins  Trump Preference TW  \\\n",
      "0            50.404261  ...          0           1                 7729   \n",
      "1            52.971498  ...          0           1                 1551   \n",
      "2            52.146319  ...          0           1                 4147   \n",
      "3            54.650198  ...          0           1                14209   \n",
      "4            53.693901  ...          0           1                 2012   \n",
      "\n",
      "   Biden Preference TW  Total Polarity TW  % Trump Preferences TW  \\\n",
      "0                 7855              15584               49.595739   \n",
      "1                 1747               3298               47.028502   \n",
      "2                 4519               8666               47.853681   \n",
      "3                17123              31332               45.349802   \n",
      "4                 2333               4345               46.306099   \n",
      "\n",
      "   % Biden Preferences TW   Winner TW Trump wins TW  Biden wins TW  \n",
      "0               50.404261  Biden wins             0              1  \n",
      "1               52.971498  Biden wins             0              1  \n",
      "2               52.146319  Biden wins             0              1  \n",
      "3               54.650198  Biden wins             0              1  \n",
      "4               53.693901  Biden wins             0              1  \n",
      "\n",
      "[5 rows x 21 columns]\n"
     ]
    }
   ],
   "source": [
    "# Define the full path to the CSV file for Trump and Biden\n",
    "tweet_preferences = base_path / \"data/tweet_preferences.csv\" \n",
    "\n",
    "tweet_preferences = pd.read_csv(tweet_preferences)\n",
    "print(tweet_preferences.head())"
   ]
  },
  {
   "cell_type": "markdown",
   "id": "1f8a52e3-0ebe-4280-a748-c134c8093a96",
   "metadata": {},
   "source": [
    "Merge the two datasets by the common column \"State\", which uniquely identifies each state. The rows in tweet_preferences and political_outcomes will be aligned based on matching values in this column. This is a left join, meaning all rows from tweet_preferences will be included in the merged DataFrame, comparison_df. If there are matching rows in political_outcomes for a given state, those rows are combined. If there are no matching rows in political_outcomes for a state present in tweet_preferences, the columns from political_outcomes will contain NaN for that row in comparison_df"
   ]
  },
  {
   "cell_type": "code",
   "execution_count": 7,
   "id": "630a0d80",
   "metadata": {},
   "outputs": [
    {
     "name": "stdout",
     "output_type": "stream",
     "text": [
      "  State  Trump Positive  Trump Negative  Biden Positive  Biden Negative  \\\n",
      "0    FL            5526            3313            4542            2203   \n",
      "1    OR            1128             878             869             423   \n",
      "2    DC            3166            1999            2520             981   \n",
      "3    CA            9969            7303            9820            4240   \n",
      "4    OH            1381             927            1406             631   \n",
      "\n",
      "   Trump Preference  Biden Preference  Total Polarity  % Trump Preferences  \\\n",
      "0              7729              7855           15584            49.595739   \n",
      "1              1551              1747            3298            47.028502   \n",
      "2              4147              4519            8666            47.853681   \n",
      "3             14209             17123           31332            45.349802   \n",
      "4              2012              2333            4345            46.306099   \n",
      "\n",
      "   % Biden Preferences  ...   Winner TW  Trump wins TW  Biden wins TW  \\\n",
      "0            50.404261  ...  Biden wins              0              1   \n",
      "1            52.971498  ...  Biden wins              0              1   \n",
      "2            52.146319  ...  Biden wins              0              1   \n",
      "3            54.650198  ...  Biden wins              0              1   \n",
      "4            53.693901  ...  Biden wins              0              1   \n",
      "\n",
      "          federal state  trump_pct  biden_pct  trump_vote  biden_vote  \\\n",
      "0               Florida       51.2       47.9     5668731     5297045   \n",
      "1                Oregon       40.7       56.9      958448     1340383   \n",
      "2  District of Columbia        5.4       93.0       18586      317323   \n",
      "3            California       34.3       63.5     5982194    11082293   \n",
      "4                  Ohio       53.3       45.3     3154834     2679165   \n",
      "\n",
      "  trump_win  biden_win  \n",
      "0         1          0  \n",
      "1         0          1  \n",
      "2         0          1  \n",
      "3         0          1  \n",
      "4         1          0  \n",
      "\n",
      "[5 rows x 28 columns]\n"
     ]
    }
   ],
   "source": [
    "comparison_df = tweet_preferences.merge(political_outcomes, on=\"State\", how=\"left\") #merge the two datasets by state. Call the resulting dataframe comparison_df\n",
    "print(comparison_df.head())"
   ]
  },
  {
   "cell_type": "code",
   "execution_count": 8,
   "id": "ed9e5dbb",
   "metadata": {},
   "outputs": [
    {
     "name": "stdout",
     "output_type": "stream",
     "text": [
      "Columns of the merged dataset comparison_df are: ['State', 'Trump Positive', 'Trump Negative', 'Biden Positive', 'Biden Negative', 'Trump Preference', 'Biden Preference', 'Total Polarity', '% Trump Preferences', '% Biden Preferences', 'Winner', 'Trump wins', 'Biden wins', 'Trump Preference TW', 'Biden Preference TW', 'Total Polarity TW', '% Trump Preferences TW', '% Biden Preferences TW', 'Winner TW', 'Trump wins TW', 'Biden wins TW', 'federal state', 'trump_pct', 'biden_pct', 'trump_vote', 'biden_vote', 'trump_win', 'biden_win']\n"
     ]
    }
   ],
   "source": [
    "# Obtain column names\n",
    "column_names = comparison_df.columns\n",
    "\n",
    "# Print column names\n",
    "print(\"Columns of the merged dataset comparison_df are:\", list(column_names))"
   ]
  },
  {
   "cell_type": "markdown",
   "id": "cb16d6ef-1f10-4b1d-a37b-9a4c0728593e",
   "metadata": {},
   "source": [
    "Creating a column to check whether our proxy predicts well actual electoral outcomes. We use two separate conditions to check if our prediction matches the actual electoral outcome. We use the logical operator 'OR': If either of the two conditions is true, the value in 'Tweet Correct' will be true"
   ]
  },
  {
   "cell_type": "code",
   "execution_count": 9,
   "id": "7572ff22",
   "metadata": {},
   "outputs": [
    {
     "name": "stdout",
     "output_type": "stream",
     "text": [
      "correct predictions: Tweet Correct\n",
      "True     29\n",
      "False    22\n",
      "Name: count, dtype: int64\n"
     ]
    }
   ],
   "source": [
    "# Creating a column to check whether our proxy predicts well actual electoral outcomes\n",
    "comparison_df['Tweet Correct'] = (\n",
    "    (comparison_df['Trump wins TW'] == 1) & (comparison_df['trump_win'] == 1) | \n",
    "    (comparison_df['Biden wins TW'] == 1) & (comparison_df['biden_win'] == 1)\n",
    ")\n",
    "\n",
    "# Counting correct predictions\n",
    "correct_count = comparison_df['Tweet Correct'].value_counts()\n",
    "print(\"correct predictions:\", correct_count)"
   ]
  },
  {
   "cell_type": "code",
   "execution_count": 10,
   "id": "5deb2d73",
   "metadata": {},
   "outputs": [
    {
     "data": {
      "image/png": "[encoded data removed]",
      "text/plain": [
       "<Figure size 640x480 with 1 Axes>"
      ]
     },
     "metadata": {},
     "output_type": "display_data"
    }
   ],
   "source": [
    "# plotting incorrect and correct predictions\n",
    "plt.bar(correct_count.index.astype(str), correct_count.values, color=['green', 'red'])\n",
    "plt.title('Number of Correct Predictions by Tweets')\n",
    "plt.xlabel('Correct Predictions')\n",
    "plt.ylabel('Count')\n",
    "plt.xticks(ticks=[0, 1], labels=['Incorrect', 'Correct'])\n",
    "plt.show()"
   ]
  },
  {
   "cell_type": "markdown",
   "id": "a811c6e4",
   "metadata": {},
   "source": [
    "## Final Comment\n",
    "\n",
    "Overall, Twitter data indicates a general preference toward Biden. In fact, our proxy based on the sentiment analysis of tweets predicts that Biden wins in 44 of the federal states.  However, our tweets' sentiment proxy for electoral outcomes turned out to not be a particularly good predictor of the 2020 presidential elections' outcomes. This may be due to the strict assumptions upon which our proxy rests, such as the assumption that neutral tweets do not matter and that a positive tweet toward a candidate is equivalent to a negative tweet toward the other candidate by the same user. Moreover, states differ widely in terms of the total number of tweets, making our proxy less reliable in states with a low number. However, within states, there is not a huge difference in terms of the number of tweets on each candidate. Hence, our sentiment analysis is based on a relatively balanced sample.\n",
    "\n",
    "It’s worth noting that, although the number of tweets using Trump-related hashtags is significantly higher, many of these tweets tend to carry a critical tone. Therefore, the general preference toward Biden expressed on Twitter may simply be due to the disliking expressed toward Trump's controversial character, and may not translate into a pro-Biden voting behaviour.\n",
    "It is also important to highlight that there may be a discrepancy between active Twitter users and the voting population. For instance, the former may be relatively younger and leaning toward the democratic party with respect to the latter. \n",
    " \n",
    "Ultimatelly , these considerations lead us to conclude that, although there is great potential for improvement in harnessing social media data to gauge political preferences and even form predictions, *our proposed proxy is not reliable for predicting electoral outcomes*. However, it may provide a rough way to gauge *public sentiment*, which appears to be generally critical of Trump.\n",
    "\n",
    "## Future contributions\n",
    "\n",
    "To deepen this analysis, generating a predictive model could help capture social media users’ preference dynamics more accurately. For instance, it would be useful to **generate a distribution that assigns to neutral tweets a certain kind of voting behaviour** with a given probability and **considere the weights that each american federal state has in the president elections**. A more **nuanced sentiment analysis**, capturing sentiment more in-depth with respect to the labels \"positive\", \"neutral\" and \"negative\", would also be able to capture information that is ignored by our proxy and is potentially relevant for predictions. A final suggested refainment could be to consider dynamics where, over time, the **same users may make statements on Twitter that are inconsistent with their past ones**, and assign greater weight to tweets made closer to the election date.\n",
    "\n",
    "Integrating these approaches for the Tweets Proxy into a forecasting deep learning model could significantly enhance the analysis !!!"
   ]
  }
 ],
 "metadata": {
  "kernelspec": {
   "display_name": "Python (text_analysis_project)",
   "language": "python",
   "name": "text_analysis_project"
  },
  "language_info": {
   "codemirror_mode": {
    "name": "ipython",
    "version": 3
   },
   "file_extension": ".py",
   "mimetype": "text/x-python",
   "name": "python",
   "nbconvert_exporter": "python",
   "pygments_lexer": "ipython3",
   "version": "3.9.20"
  }
 },
 "nbformat": 4,
 "nbformat_minor": 5
}
